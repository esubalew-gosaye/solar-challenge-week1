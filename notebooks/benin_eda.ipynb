{
 "cells": [
  {
   "cell_type": "code",
   "execution_count": 5,
   "id": "70a19fcb",
   "metadata": {},
   "outputs": [],
   "source": [
    "import pandas as pd\n",
    "import numpy as np\n",
    "import seaborn as sns\n",
    "\n",
    "import matplotlib.pyplot as plt"
   ]
  },
  {
   "cell_type": "code",
   "execution_count": 23,
   "id": "1dabc0dc",
   "metadata": {},
   "outputs": [
    {
     "name": "stdout",
     "output_type": "stream",
     "text": [
      "<class 'pandas.core.frame.DataFrame'>\n",
      "RangeIndex: 525600 entries, 0 to 525599\n",
      "Data columns (total 19 columns):\n",
      " #   Column         Non-Null Count   Dtype  \n",
      "---  ------         --------------   -----  \n",
      " 0   Timestamp      525600 non-null  object \n",
      " 1   GHI            525600 non-null  float64\n",
      " 2   DNI            525600 non-null  float64\n",
      " 3   DHI            525600 non-null  float64\n",
      " 4   ModA           525600 non-null  float64\n",
      " 5   ModB           525600 non-null  float64\n",
      " 6   Tamb           525600 non-null  float64\n",
      " 7   RH             525600 non-null  float64\n",
      " 8   WS             525600 non-null  float64\n",
      " 9   WSgust         525600 non-null  float64\n",
      " 10  WSstdev        525600 non-null  float64\n",
      " 11  WD             525600 non-null  float64\n",
      " 12  WDstdev        525600 non-null  float64\n",
      " 13  BP             525600 non-null  int64  \n",
      " 14  Cleaning       525600 non-null  int64  \n",
      " 15  Precipitation  525600 non-null  float64\n",
      " 16  TModA          525600 non-null  float64\n",
      " 17  TModB          525600 non-null  float64\n",
      " 18  Comments       0 non-null       float64\n",
      "dtypes: float64(16), int64(2), object(1)\n",
      "memory usage: 76.2+ MB\n"
     ]
    }
   ],
   "source": [
    "df = pd.read_csv(\"../data/benin-malanville.csv\") \n",
    "df.info()"
   ]
  },
  {
   "cell_type": "code",
   "execution_count": 24,
   "id": "61e9f3c2",
   "metadata": {},
   "outputs": [
    {
     "name": "stdout",
     "output_type": "stream",
     "text": [
      "               Timestamp            GHI            DNI            DHI  \\\n",
      "count             525600  525600.000000  525600.000000  525600.000000   \n",
      "unique            525600            NaN            NaN            NaN   \n",
      "top     2022-08-08 23:21            NaN            NaN            NaN   \n",
      "freq                   1            NaN            NaN            NaN   \n",
      "mean                 NaN     240.559452     167.187516     115.358961   \n",
      "std                  NaN     331.131327     261.710501     158.691074   \n",
      "min                  NaN     -12.900000      -7.800000     -12.600000   \n",
      "25%                  NaN      -2.000000      -0.500000      -2.100000   \n",
      "50%                  NaN       1.800000      -0.100000       1.600000   \n",
      "75%                  NaN     483.400000     314.200000     216.300000   \n",
      "max                  NaN    1413.000000     952.300000     759.200000   \n",
      "\n",
      "                 ModA           ModB           Tamb             RH  \\\n",
      "count   525600.000000  525600.000000  525600.000000  525600.000000   \n",
      "unique            NaN            NaN            NaN            NaN   \n",
      "top               NaN            NaN            NaN            NaN   \n",
      "freq              NaN            NaN            NaN            NaN   \n",
      "mean       236.589496     228.883576      28.179683      54.487969   \n",
      "std        326.894859     316.536515       5.924297      28.073069   \n",
      "min          0.000000       0.000000      11.000000       2.100000   \n",
      "25%          0.000000       0.000000      24.200000      28.800000   \n",
      "50%          4.500000       4.300000      28.000000      55.100000   \n",
      "75%        463.700000     447.900000      32.300000      80.100000   \n",
      "max       1342.300000    1342.300000      43.800000     100.000000   \n",
      "\n",
      "                   WS         WSgust        WSstdev             WD  \\\n",
      "count   525600.000000  525600.000000  525600.000000  525600.000000   \n",
      "unique            NaN            NaN            NaN            NaN   \n",
      "top               NaN            NaN            NaN            NaN   \n",
      "freq              NaN            NaN            NaN            NaN   \n",
      "mean         2.121113       2.809195       0.473390     153.435172   \n",
      "std          1.603466       2.029120       0.273395     102.332842   \n",
      "min          0.000000       0.000000       0.000000       0.000000   \n",
      "25%          1.000000       1.300000       0.400000      59.000000   \n",
      "50%          1.900000       2.600000       0.500000     181.000000   \n",
      "75%          3.100000       4.100000       0.600000     235.100000   \n",
      "max         19.500000      26.600000       4.200000     360.000000   \n",
      "\n",
      "              WDstdev             BP       Cleaning  Precipitation  \\\n",
      "count   525600.000000  525600.000000  525600.000000  525600.000000   \n",
      "unique            NaN            NaN            NaN            NaN   \n",
      "top               NaN            NaN            NaN            NaN   \n",
      "freq              NaN            NaN            NaN            NaN   \n",
      "mean         8.582407     994.197199       0.000923       0.001905   \n",
      "std          6.385864       2.474993       0.030363       0.037115   \n",
      "min          0.000000     985.000000       0.000000       0.000000   \n",
      "25%          3.700000     993.000000       0.000000       0.000000   \n",
      "50%          8.600000     994.000000       0.000000       0.000000   \n",
      "75%         12.300000     996.000000       0.000000       0.000000   \n",
      "max         99.400000    1003.000000       1.000000       2.500000   \n",
      "\n",
      "                TModA          TModB  Comments  \n",
      "count   525600.000000  525600.000000       0.0  \n",
      "unique            NaN            NaN       NaN  \n",
      "top               NaN            NaN       NaN  \n",
      "freq              NaN            NaN       NaN  \n",
      "mean        35.246026      32.471736       NaN  \n",
      "std         14.807258      12.348743       NaN  \n",
      "min          9.000000       8.100000       NaN  \n",
      "25%         24.200000      23.600000       NaN  \n",
      "50%         30.000000      28.900000       NaN  \n",
      "75%         46.900000      41.500000       NaN  \n",
      "max         81.000000      72.500000       NaN  \n"
     ]
    }
   ],
   "source": [
    "print(df.describe(include='all'))"
   ]
  },
  {
   "cell_type": "code",
   "execution_count": 25,
   "id": "3189c2d0",
   "metadata": {},
   "outputs": [
    {
     "name": "stdout",
     "output_type": "stream",
     "text": [
      "                 GHI            DNI            DHI           ModA  \\\n",
      "count  525600.000000  525600.000000  525600.000000  525600.000000   \n",
      "mean      240.559452     167.187516     115.358961     236.589496   \n",
      "std       331.131327     261.710501     158.691074     326.894859   \n",
      "min       -12.900000      -7.800000     -12.600000       0.000000   \n",
      "25%        -2.000000      -0.500000      -2.100000       0.000000   \n",
      "50%         1.800000      -0.100000       1.600000       4.500000   \n",
      "75%       483.400000     314.200000     216.300000     463.700000   \n",
      "max      1413.000000     952.300000     759.200000    1342.300000   \n",
      "\n",
      "                ModB           Tamb             RH             WS  \\\n",
      "count  525600.000000  525600.000000  525600.000000  525600.000000   \n",
      "mean      228.883576      28.179683      54.487969       2.121113   \n",
      "std       316.536515       5.924297      28.073069       1.603466   \n",
      "min         0.000000      11.000000       2.100000       0.000000   \n",
      "25%         0.000000      24.200000      28.800000       1.000000   \n",
      "50%         4.300000      28.000000      55.100000       1.900000   \n",
      "75%       447.900000      32.300000      80.100000       3.100000   \n",
      "max      1342.300000      43.800000     100.000000      19.500000   \n",
      "\n",
      "              WSgust        WSstdev             WD        WDstdev  \\\n",
      "count  525600.000000  525600.000000  525600.000000  525600.000000   \n",
      "mean        2.809195       0.473390     153.435172       8.582407   \n",
      "std         2.029120       0.273395     102.332842       6.385864   \n",
      "min         0.000000       0.000000       0.000000       0.000000   \n",
      "25%         1.300000       0.400000      59.000000       3.700000   \n",
      "50%         2.600000       0.500000     181.000000       8.600000   \n",
      "75%         4.100000       0.600000     235.100000      12.300000   \n",
      "max        26.600000       4.200000     360.000000      99.400000   \n",
      "\n",
      "                  BP       Cleaning  Precipitation          TModA  \\\n",
      "count  525600.000000  525600.000000  525600.000000  525600.000000   \n",
      "mean      994.197199       0.000923       0.001905      35.246026   \n",
      "std         2.474993       0.030363       0.037115      14.807258   \n",
      "min       985.000000       0.000000       0.000000       9.000000   \n",
      "25%       993.000000       0.000000       0.000000      24.200000   \n",
      "50%       994.000000       0.000000       0.000000      30.000000   \n",
      "75%       996.000000       0.000000       0.000000      46.900000   \n",
      "max      1003.000000       1.000000       2.500000      81.000000   \n",
      "\n",
      "               TModB  Comments  \n",
      "count  525600.000000       0.0  \n",
      "mean       32.471736       NaN  \n",
      "std        12.348743       NaN  \n",
      "min         8.100000       NaN  \n",
      "25%        23.600000       NaN  \n",
      "50%        28.900000       NaN  \n",
      "75%        41.500000       NaN  \n",
      "max        72.500000       NaN  \n"
     ]
    }
   ],
   "source": [
    "number_stats = df.describe(include=[np.number])\n",
    "print(number_stats)"
   ]
  },
  {
   "cell_type": "code",
   "execution_count": 26,
   "id": "936e536e",
   "metadata": {},
   "outputs": [
    {
     "name": "stdout",
     "output_type": "stream",
     "text": [
      "Missing Values per Column:\n",
      "Timestamp             0\n",
      "GHI                   0\n",
      "DNI                   0\n",
      "DHI                   0\n",
      "ModA                  0\n",
      "ModB                  0\n",
      "Tamb                  0\n",
      "RH                    0\n",
      "WS                    0\n",
      "WSgust                0\n",
      "WSstdev               0\n",
      "WD                    0\n",
      "WDstdev               0\n",
      "BP                    0\n",
      "Cleaning              0\n",
      "Precipitation         0\n",
      "TModA                 0\n",
      "TModB                 0\n",
      "Comments         525600\n",
      "dtype: int64\n",
      "\n",
      "Missing Values (% of Total Data):\n",
      "Timestamp          0.0\n",
      "GHI                0.0\n",
      "DNI                0.0\n",
      "DHI                0.0\n",
      "ModA               0.0\n",
      "ModB               0.0\n",
      "Tamb               0.0\n",
      "RH                 0.0\n",
      "WS                 0.0\n",
      "WSgust             0.0\n",
      "WSstdev            0.0\n",
      "WD                 0.0\n",
      "WDstdev            0.0\n",
      "BP                 0.0\n",
      "Cleaning           0.0\n",
      "Precipitation      0.0\n",
      "TModA              0.0\n",
      "TModB              0.0\n",
      "Comments         100.0\n",
      "dtype: float64\n"
     ]
    }
   ],
   "source": [
    "\n",
    "# Calculate and display the number and percentage of missing values for each column in the dataframe\n",
    "\n",
    "missing_values = df.isna().sum()\n",
    "missing_percentage = (missing_values / len(df)) * 100\n",
    "\n",
    "print(\"Missing Values per Column:\")\n",
    "print(missing_values)\n",
    "print(\"\\nMissing Values (% of Total Data):\")\n",
    "print(missing_percentage)"
   ]
  },
  {
   "cell_type": "code",
   "execution_count": 27,
   "id": "4b4bbc04",
   "metadata": {},
   "outputs": [
    {
     "name": "stdout",
     "output_type": "stream",
     "text": [
      "Columns with > 5% missing values:\n",
      "['Comments']\n"
     ]
    }
   ],
   "source": [
    "# Check missing value percentage >5% and list columns\n",
    "\n",
    "threshold = 5  # 5% threshold\n",
    "cols_to_drop = missing_percentage[missing_percentage > threshold].index\n",
    "\n",
    "print(\"Columns with > 5% missing values:\")\n",
    "print(cols_to_drop.tolist())"
   ]
  },
  {
   "cell_type": "code",
   "execution_count": 28,
   "id": "35099054",
   "metadata": {},
   "outputs": [
    {
     "name": "stdout",
     "output_type": "stream",
     "text": [
      "Timestamp        0\n",
      "GHI              0\n",
      "DNI              0\n",
      "DHI              0\n",
      "ModA             0\n",
      "ModB             0\n",
      "Tamb             0\n",
      "RH               0\n",
      "WS               0\n",
      "WSgust           0\n",
      "WSstdev          0\n",
      "WD               0\n",
      "WDstdev          0\n",
      "BP               0\n",
      "Cleaning         0\n",
      "Precipitation    0\n",
      "TModA            0\n",
      "TModB            0\n",
      "dtype: int64\n"
     ]
    }
   ],
   "source": [
    "# Drop col with missing value > 5%\n",
    "df_clean = df.drop(columns=cols_to_drop)\n",
    "print(df_clean.isna().sum())"
   ]
  },
  {
   "cell_type": "code",
   "execution_count": 29,
   "id": "2251a5eb",
   "metadata": {},
   "outputs": [
    {
     "name": "stdout",
     "output_type": "stream",
     "text": [
      "Missing values after imputation: 0   Timestamp        0\n",
      "GHI              0\n",
      "DNI              0\n",
      "DHI              0\n",
      "ModA             0\n",
      "ModB             0\n",
      "Tamb             0\n",
      "RH               0\n",
      "WS               0\n",
      "WSgust           0\n",
      "WSstdev          0\n",
      "WD               0\n",
      "WDstdev          0\n",
      "BP               0\n",
      "Cleaning         0\n",
      "Precipitation    0\n",
      "TModA            0\n",
      "TModB            0\n",
      "dtype: int64\n"
     ]
    }
   ],
   "source": [
    "print(\"Missing values after imputation:\", df_clean.isna().sum().sum(),\" \",df_clean.isnull().sum())"
   ]
  },
  {
   "cell_type": "code",
   "execution_count": 30,
   "id": "2df81418",
   "metadata": {},
   "outputs": [
    {
     "name": "stdout",
     "output_type": "stream",
     "text": [
      "       Timestamp  GHI  DNI  DHI  ModA  ModB  Tamb  RH  WS  WSgust  WSstdev  \\\n",
      "0            NaN -1.2 -0.2 -1.1   NaN   NaN   NaN NaN NaN     NaN      NaN   \n",
      "1            NaN -1.1 -0.2 -1.1   NaN   NaN   NaN NaN NaN     NaN      NaN   \n",
      "2            NaN -1.1 -0.2 -1.1   NaN   NaN   NaN NaN NaN     NaN      NaN   \n",
      "3            NaN -1.1 -0.1 -1.0   NaN   NaN   NaN NaN NaN     NaN      NaN   \n",
      "4            NaN -1.0 -0.1 -1.0   NaN   NaN   NaN NaN NaN     NaN      NaN   \n",
      "...          ...  ...  ...  ...   ...   ...   ...  ..  ..     ...      ...   \n",
      "525595       NaN -5.5 -0.1 -5.9   NaN   NaN   NaN NaN NaN     NaN      NaN   \n",
      "525596       NaN -5.5 -0.1 -5.8   NaN   NaN   NaN NaN NaN     NaN      NaN   \n",
      "525597       NaN -5.5 -0.1 -5.8   NaN   NaN   NaN NaN NaN     NaN      NaN   \n",
      "525598       NaN -5.5 -0.1 -5.8   NaN   NaN   NaN NaN NaN     NaN      NaN   \n",
      "525599       NaN -5.5 -0.1 -5.7   NaN   NaN   NaN NaN NaN     NaN      NaN   \n",
      "\n",
      "        WD  WDstdev  BP  Cleaning  Precipitation  TModA  TModB  \n",
      "0      NaN      NaN NaN       NaN            NaN    NaN    NaN  \n",
      "1      NaN      NaN NaN       NaN            NaN    NaN    NaN  \n",
      "2      NaN      NaN NaN       NaN            NaN    NaN    NaN  \n",
      "3      NaN      NaN NaN       NaN            NaN    NaN    NaN  \n",
      "4      NaN      NaN NaN       NaN            NaN    NaN    NaN  \n",
      "...     ..      ...  ..       ...            ...    ...    ...  \n",
      "525595 NaN      NaN NaN       NaN            NaN    NaN    NaN  \n",
      "525596 NaN      NaN NaN       NaN            NaN    NaN    NaN  \n",
      "525597 NaN      NaN NaN       NaN            NaN    NaN    NaN  \n",
      "525598 NaN      NaN NaN       NaN            NaN    NaN    NaN  \n",
      "525599 NaN      NaN NaN       NaN            NaN    NaN    NaN  \n",
      "\n",
      "[278722 rows x 18 columns]\n"
     ]
    }
   ],
   "source": [
    "# check for negative entries in all cols\n",
    "# Outlier Detection & Basic Cleaning\n",
    "# Identify Negative Values (Invalid Entries) For columns like GHI, DNI, DHI (irradiance cannot be negative):\n",
    "negative_entries = df_clean[df_clean.select_dtypes(include='number') < 0].dropna(how='all')\n",
    "\n",
    "print(negative_entries)"
   ]
  },
  {
   "cell_type": "code",
   "execution_count": 31,
   "id": "00bbe1ba",
   "metadata": {},
   "outputs": [
    {
     "name": "stdout",
     "output_type": "stream",
     "text": [
      "Negative GHI entries: 258847\n",
      "Negative DNI entries: 275987\n",
      "Negative DHI entries: 259182\n"
     ]
    }
   ],
   "source": [
    "# checking on the interest cols\n",
    "negative_ghi = df_clean[df_clean['GHI'] < 0]\n",
    "print(f\"Negative GHI entries: {len(negative_ghi)}\")\n",
    "\n",
    "negative_dni = df_clean[df_clean['DNI'] < 0]\n",
    "print(f\"Negative DNI entries: {len(negative_dni)}\")\n",
    "\n",
    "negative_dhi = df_clean[df_clean['DHI'] < 0]\n",
    "print(f\"Negative DHI entries: {len(negative_dhi)}\")"
   ]
  },
  {
   "cell_type": "code",
   "execution_count": 32,
   "id": "85c5fc4b",
   "metadata": {},
   "outputs": [],
   "source": [
    "# Replace with zero\n",
    "df_clean['GHI'] = df_clean['GHI'].clip(lower=0)\n",
    "df_clean['DNI'] = df_clean['DNI'].clip(lower=0)\n",
    "df_clean['DHI'] = df_clean['DHI'].clip(lower=0)"
   ]
  },
  {
   "cell_type": "code",
   "execution_count": 33,
   "id": "377fd497",
   "metadata": {},
   "outputs": [],
   "source": [
    "# Outlier Detection and Imputation\n",
    "# create key columns\n",
    "key_columns = ['GHI', 'DNI', 'DHI', 'ModA', 'ModB', 'WS', 'WSgust']"
   ]
  },
  {
   "cell_type": "code",
   "execution_count": 34,
   "id": "c189cf07",
   "metadata": {},
   "outputs": [
    {
     "data": {
      "image/png": "[encoded data removed]",
      "text/plain": [
       "<Figure size 1000x600 with 1 Axes>"
      ]
     },
     "metadata": {},
     "output_type": "display_data"
    }
   ],
   "source": [
    "plt.figure(figsize=(10, 6))\n",
    "sns.boxplot(data=df_clean[key_columns])\n",
    "plt.title(\"Boxplot of Key Columns (Before Outlier Removal)\")\n",
    "plt.xticks(rotation=45)\n",
    "plt.show()"
   ]
  },
  {
   "cell_type": "code",
   "execution_count": 35,
   "id": "8535e7fb",
   "metadata": {},
   "outputs": [
    {
     "ename": "ModuleNotFoundError",
     "evalue": "No module named 'scipy'",
     "output_type": "error",
     "traceback": [
      "\u001b[31m---------------------------------------------------------------------------\u001b[39m",
      "\u001b[31mModuleNotFoundError\u001b[39m                       Traceback (most recent call last)",
      "\u001b[36mCell\u001b[39m\u001b[36m \u001b[39m\u001b[32mIn[35]\u001b[39m\u001b[32m, line 2\u001b[39m\n\u001b[32m      1\u001b[39m \u001b[38;5;66;03m# Check outliers\u001b[39;00m\n\u001b[32m----> \u001b[39m\u001b[32m2\u001b[39m \u001b[38;5;28;01mfrom\u001b[39;00m\u001b[38;5;250m \u001b[39m\u001b[34;01mscipy\u001b[39;00m\u001b[38;5;250m \u001b[39m\u001b[38;5;28;01mimport\u001b[39;00m stats\n\u001b[32m      4\u001b[39m \u001b[38;5;66;03m# Calculate Z-scores for key columns\u001b[39;00m\n\u001b[32m      5\u001b[39m z_scores = df_clean[key_columns].apply(stats.zscore)\n",
      "\u001b[31mModuleNotFoundError\u001b[39m: No module named 'scipy'"
     ]
    }
   ],
   "source": [
    "# Check outliers\n",
    "from scipy import stats\n",
    "\n",
    "# Calculate Z-scores for key columns\n",
    "z_scores = df_clean[key_columns].apply(stats.zscore)\n",
    "\n",
    "# Flag outliers (|Z| > 3)\n",
    "outlier_flags = (np.abs(z_scores) > 3)\n",
    "print(\"Number of outliers per column:\")\n",
    "print(outlier_flags.sum())"
   ]
  },
  {
   "cell_type": "code",
   "execution_count": null,
   "id": "0d229a86",
   "metadata": {},
   "outputs": [],
   "source": [
    "# Enhanced outlier treatment: winsorization + iterative Z-score capping\n",
    "from scipy.stats.mstats import winsorize\n",
    "\n",
    "def treat_outliers_enhanced(df, columns, z_threshold=3, winsor_limits=0.01):\n",
    "    \"\"\"Combination winsorization + Z-score approach\"\"\"\n",
    "    df_out = df.copy()\n",
    "    \n",
    "    # First pass: Winsorize extreme values\n",
    "    for col in columns:\n",
    "        df_out[col] = winsorize(df_out[col], limits=[winsor_limits, winsor_limits])\n",
    "    \n",
    "    # Second pass: Iterative Z-score treatment\n",
    "    for _ in range(3):\n",
    "        for col in columns:\n",
    "            z = np.abs(stats.zscore(df_out[col]))\n",
    "            median = df_out[col].median()\n",
    "            df_out.loc[z > z_threshold, col] = median\n",
    "    \n",
    "    return df_out\n",
    "\n",
    "df_clean = treat_outliers_enhanced(df_clean, key_columns)"
   ]
  },
  {
   "cell_type": "code",
   "execution_count": null,
   "id": "02c25dd0",
   "metadata": {},
   "outputs": [],
   "source": [
    "plt.figure(figsize=(10, 6))\n",
    "sns.boxplot(data=df_clean[key_columns])\n",
    "plt.title(\"Boxplot of Key Columns (After Outlier Removal)\")\n",
    "plt.xticks(rotation=45)\n",
    "plt.show()"
   ]
  },
  {
   "cell_type": "code",
   "execution_count": null,
   "id": "61262b47",
   "metadata": {},
   "outputs": [],
   "source": [
    "\n",
    "#Export dataset\n",
    "\n",
    "country = \"benin\"  \n",
    "output_path = f\"../data/{country}_clean.csv\"\n",
    "df_clean.to_csv(output_path, index=False)"
   ]
  }
 ],
 "metadata": {
  "kernelspec": {
   "display_name": "venv",
   "language": "python",
   "name": "python3"
  },
  "language_info": {
   "codemirror_mode": {
    "name": "ipython",
    "version": 3
   },
   "file_extension": ".py",
   "mimetype": "text/x-python",
   "name": "python",
   "nbconvert_exporter": "python",
   "pygments_lexer": "ipython3",
   "version": "3.12.9"
  }
 },
 "nbformat": 4,
 "nbformat_minor": 5
}
